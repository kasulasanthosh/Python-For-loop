{
 "cells": [
  {
   "cell_type": "code",
   "execution_count": 3,
   "id": "a50a9b73-ec22-44ac-b06c-6d2f8684100b",
   "metadata": {},
   "outputs": [
    {
     "name": "stdout",
     "output_type": "stream",
     "text": [
      "1 2 3 4 5 6 7 8 9 10 "
     ]
    }
   ],
   "source": [
    "#1. Write a Python program to print the numbers from 1 to 10 using a `for` loop.\n",
    "\n",
    "for i in range(1,11):\n",
    "    print(i,end=\" \")\n"
   ]
  },
  {
   "cell_type": "code",
   "execution_count": 10,
   "id": "e388414d-4093-4547-9c20-89286279903f",
   "metadata": {},
   "outputs": [
    {
     "name": "stdout",
     "output_type": "stream",
     "text": [
      "the sum of elements is: 150\n"
     ]
    }
   ],
   "source": [
    "# 2. Create a program that calculates the sum of all numbers in a list using a `for` loop.\n",
    "lst=[10,20,30,40,50]\n",
    "sum=0\n",
    "for v in lst:\n",
    "    sum=sum+v\n",
    "print(\"the sum of elements is:\",sum)"
   ]
  },
  {
   "cell_type": "code",
   "execution_count": 22,
   "id": "fc7e3eb4-0f9b-4b55-9d6b-932261fb31ef",
   "metadata": {},
   "outputs": [
    {
     "data": {
      "text/plain": [
       "'hsohtnas '"
      ]
     },
     "execution_count": 22,
     "metadata": {},
     "output_type": "execute_result"
    }
   ],
   "source": [
    "# 3. Write a program to print the characters of a string in reverse order using a `for` loop.\n",
    "def reverse_string(str1):\n",
    "    string=\" \"\n",
    "    for i in str1:\n",
    "        string=i+string\n",
    "    return string\n",
    "reverse_string(\"santhosh\")\n",
    "    "
   ]
  },
  {
   "cell_type": "code",
   "execution_count": 37,
   "id": "a0e53f69-5956-49fd-bc5b-cd52e75fe367",
   "metadata": {},
   "outputs": [
    {
     "name": "stdin",
     "output_type": "stream",
     "text": [
      "enter the number 5\n"
     ]
    },
    {
     "name": "stdout",
     "output_type": "stream",
     "text": [
      "120\n"
     ]
    }
   ],
   "source": [
    "# 4. Develop a program that finds the factorial of a given number using a `for` loop\n",
    "num=int(input(\"enter the number\"))\n",
    "fact=1\n",
    "for i in range(1,num+1):\n",
    "    fact=fact*i\n",
    "print(fact)"
   ]
  },
  {
   "cell_type": "code",
   "execution_count": 41,
   "id": "d7d6a133-1cb9-4303-8ec6-c9b2e79cb603",
   "metadata": {},
   "outputs": [
    {
     "name": "stdin",
     "output_type": "stream",
     "text": [
      "enter a number 5\n"
     ]
    },
    {
     "name": "stdout",
     "output_type": "stream",
     "text": [
      "5 * 1 = 5\n",
      "5 * 2 = 10\n",
      "5 * 3 = 15\n",
      "5 * 4 = 20\n",
      "5 * 5 = 25\n",
      "5 * 6 = 30\n",
      "5 * 7 = 35\n",
      "5 * 8 = 40\n",
      "5 * 9 = 45\n",
      "5 * 10 = 50\n"
     ]
    }
   ],
   "source": [
    "# 5. Create a program to print the multiplication table of a given number using a `for` loop.\n",
    "x=int(input(\"enter a number\"))    \n",
    "for i in range(1,11):\n",
    "    result=i*x\n",
    "    print(x,\"*\",i,\"=\",result)"
   ]
  },
  {
   "cell_type": "code",
   "execution_count": 45,
   "id": "f9494f33-cc39-46c4-ac58-2552e47e07f2",
   "metadata": {},
   "outputs": [
    {
     "name": "stdout",
     "output_type": "stream",
     "text": [
      "the count of even numbers are: 3\n",
      "the count of odd numbers are: 3\n"
     ]
    }
   ],
   "source": [
    "# 6. Write a program that counts the number of even and odd numbers in a list using a `for` loop.\n",
    "lst=[2,3,5,6,8,9]\n",
    "counteven=0\n",
    "countodd=0   \n",
    "for i in lst:\n",
    "    if i%2==0:\n",
    "        counteven+=1\n",
    "    else:\n",
    "        countodd+=1\n",
    "print(\"the count of even numbers are:\",counteven)\n",
    "print(\"the count of odd numbers are:\",countodd)\n"
   ]
  },
  {
   "cell_type": "code",
   "execution_count": 52,
   "id": "85cb1900-de61-4f9d-907a-c00719e1480e",
   "metadata": {},
   "outputs": [
    {
     "name": "stdout",
     "output_type": "stream",
     "text": [
      "1  squares is: 1\n",
      "2  squares is: 4\n",
      "3  squares is: 9\n",
      "4  squares is: 16\n",
      "5  squares is: 25\n"
     ]
    }
   ],
   "source": [
    "# 7. Develop a program that prints the squares of numbers from 1 to 5 using a `for` loop.\n",
    "for i in range(1,6):\n",
    "    squares=i**2\n",
    "    print(i,\" squares is:\",squares)"
   ]
  },
  {
   "cell_type": "code",
   "execution_count": 3,
   "id": "87cc28a5-ae1b-456b-b82e-972b9711b38c",
   "metadata": {},
   "outputs": [
    {
     "name": "stdin",
     "output_type": "stream",
     "text": [
      "enter the string santhosh\n"
     ]
    },
    {
     "name": "stdout",
     "output_type": "stream",
     "text": [
      "the length of string is : 8\n"
     ]
    }
   ],
   "source": [
    "# 8. Create a program to find the length of a string without using the `len()` function.\n",
    "x=input(\"enter the string\")\n",
    "count=0\n",
    "for i in x:\n",
    "    count=count+1\n",
    "print(\"the length of string is :\",count)"
   ]
  },
  {
   "cell_type": "code",
   "execution_count": 5,
   "id": "3c84c8d8-4d6d-455e-8176-3e3963ff72c2",
   "metadata": {},
   "outputs": [
    {
     "name": "stdout",
     "output_type": "stream",
     "text": [
      "the average of elements is: 30.0\n"
     ]
    }
   ],
   "source": [
    "# 9. Write a program that calculates the average of a list of numbers using a `for` loop.\n",
    "lst=[10,20,30,40,50]\n",
    "sum=0\n",
    "for v in lst:\n",
    "    sum=sum+v\n",
    "    average=sum/len(lst)\n",
    "print(\"the average of elements is:\",average)"
   ]
  },
  {
   "cell_type": "code",
   "execution_count": 7,
   "id": "33f7fc69-6e50-4c40-b69e-bbfd0d0813b2",
   "metadata": {},
   "outputs": [
    {
     "name": "stdin",
     "output_type": "stream",
     "text": [
      "enter a number: 5\n"
     ]
    },
    {
     "name": "stdout",
     "output_type": "stream",
     "text": [
      "Fibonacci Series: 0 1 1 2 3 "
     ]
    }
   ],
   "source": [
    "# 10. Develop a program that prints the first `n` Fibonacci numbers using a `for` loop\n",
    "num = int(input(\"enter a number:\"))\n",
    "n1, n2 = 0, 1\n",
    "print(\"Fibonacci Series:\", n1, n2, end=\" \")\n",
    "for i in range(2, num):\n",
    "    n3 = n1 + n2\n",
    "    n1 = n2\n",
    "    n2 = n3\n",
    "    print(n3, end=\" \")"
   ]
  },
  {
   "cell_type": "code",
   "execution_count": 8,
   "id": "44b70dc3-e2ea-4635-993d-de5e30b23b54",
   "metadata": {},
   "outputs": [
    {
     "name": "stdout",
     "output_type": "stream",
     "text": [
      "the list contains no duplicate values\n"
     ]
    }
   ],
   "source": [
    "#11. Write a program to check if a given list contains any duplicates using a `for` loop.\n",
    "l2=[1,2,3,4,5]\n",
    "myset=set()\n",
    "duplicate=False\n",
    "for i in l2:\n",
    "    if i in myset:\n",
    "        print(\"the list contains duplicate values\")\n",
    "        duplicate=True\n",
    "        break\n",
    "    else:\n",
    "        myset.add(i)\n",
    "if not duplicate:\n",
    "        print(\"the list contains no duplicate values\")\n"
   ]
  },
  {
   "cell_type": "code",
   "execution_count": 21,
   "id": "4314d10a-e07b-4bab-a7d6-a6869cf437c3",
   "metadata": {},
   "outputs": [
    {
     "name": "stdin",
     "output_type": "stream",
     "text": [
      "enter the starting range 5\n",
      "enter the ending range 10\n"
     ]
    },
    {
     "name": "stdout",
     "output_type": "stream",
     "text": [
      "5\n",
      "7\n",
      "9\n"
     ]
    }
   ],
   "source": [
    "#12. Create a program that prints the prime numbers in a given range using a `for` loop.\n",
    "num=int(input(\"enter the starting range\"))\n",
    "num1=int(input(\"enter the ending range\"))\n",
    "for i in range(num,num1):\n",
    "    if i%2==1:\n",
    "        print(i)"
   ]
  },
  {
   "cell_type": "code",
   "execution_count": 12,
   "id": "8495b1e4-e546-4660-adc8-4e5f54ec5bde",
   "metadata": {},
   "outputs": [
    {
     "name": "stdout",
     "output_type": "stream",
     "text": [
      "the number of vowels are: 5\n"
     ]
    }
   ],
   "source": [
    "#13. Develop a program that counts the number of vowels in a string using a `for` loop.\n",
    "s5=\"my name is santhosh\"\n",
    "vowel=0\n",
    "for v in s5:\n",
    "    if(v=='a'or v=='e'or v=='i'or v=='o'or v=='u'or v=='A'or v=='E'or v=='I' or v=='O' or v=='U'):\n",
    "        vowel=vowel+1\n",
    "print(\"the number of vowels are:\",vowel)\n"
   ]
  },
  {
   "cell_type": "code",
   "execution_count": 18,
   "id": "5bb5439b-21b7-4851-a784-ff2972e59654",
   "metadata": {},
   "outputs": [
    {
     "data": {
      "text/plain": [
       "120"
      ]
     },
     "execution_count": 18,
     "metadata": {},
     "output_type": "execute_result"
    }
   ],
   "source": [
    "#14. Write a program to find the maximum element in a 2D list using a nested `for` loop.\n",
    "def mxelement(lst2):\n",
    "    mx=0\n",
    "    for i in lst2:\n",
    "        p=1\n",
    "        for x in i:\n",
    "            p=p*x\n",
    "            mx=max(p,mx)\n",
    "    return mx\n",
    "lst2=[[1,2,3],[4,5,6],[1,2,4]]\n",
    "mxelement(lst2)"
   ]
  },
  {
   "cell_type": "code",
   "execution_count": 15,
   "id": "9188f259-a09f-4531-b204-b4b7f353aff5",
   "metadata": {},
   "outputs": [
    {
     "name": "stdout",
     "output_type": "stream",
     "text": [
      "[21, 5, 52, 21, 87]\n"
     ]
    }
   ],
   "source": [
    "#15. Create a program that removes all occurrences of a specific element from a list using a `for` loop.\n",
    "mylist = [21, 5, 8, 52, 21, 87,8]\n",
    "remove_item = 8\n",
    "for item in mylist:\n",
    "\tif(item==remove_item):\n",
    "\t\tmylist.remove(remove_item)\n",
    "\n",
    "print(mylist)"
   ]
  },
  {
   "cell_type": "code",
   "execution_count": 29,
   "id": "a832e200-3006-4009-8468-2053004e8521",
   "metadata": {},
   "outputs": [
    {
     "name": "stdout",
     "output_type": "stream",
     "text": [
      "1 * 1 = 1\n",
      "1 * 2 = 2\n",
      "1 * 3 = 3\n",
      "1 * 4 = 4\n",
      "1 * 5 = 5\n",
      "1 * 6 = 6\n",
      "1 * 7 = 7\n",
      "1 * 8 = 8\n",
      "1 * 9 = 9\n",
      "1 * 10 = 10\n",
      "2 * 1 = 2\n",
      "2 * 2 = 4\n",
      "2 * 3 = 6\n",
      "2 * 4 = 8\n",
      "2 * 5 = 10\n",
      "2 * 6 = 12\n",
      "2 * 7 = 14\n",
      "2 * 8 = 16\n",
      "2 * 9 = 18\n",
      "2 * 10 = 20\n",
      "3 * 1 = 3\n",
      "3 * 2 = 6\n",
      "3 * 3 = 9\n",
      "3 * 4 = 12\n",
      "3 * 5 = 15\n",
      "3 * 6 = 18\n",
      "3 * 7 = 21\n",
      "3 * 8 = 24\n",
      "3 * 9 = 27\n",
      "3 * 10 = 30\n",
      "4 * 1 = 4\n",
      "4 * 2 = 8\n",
      "4 * 3 = 12\n",
      "4 * 4 = 16\n",
      "4 * 5 = 20\n",
      "4 * 6 = 24\n",
      "4 * 7 = 28\n",
      "4 * 8 = 32\n",
      "4 * 9 = 36\n",
      "4 * 10 = 40\n",
      "5 * 1 = 5\n",
      "5 * 2 = 10\n",
      "5 * 3 = 15\n",
      "5 * 4 = 20\n",
      "5 * 5 = 25\n",
      "5 * 6 = 30\n",
      "5 * 7 = 35\n",
      "5 * 8 = 40\n",
      "5 * 9 = 45\n",
      "5 * 10 = 50\n"
     ]
    }
   ],
   "source": [
    "#16. Develop a program that generates a multiplication table for numbers from 1 to 5 using a nested `for` loop.\n",
    "for i in range(1,6):\n",
    "    for j in range(1,11):\n",
    "        c=i*j\n",
    "        print(i,\"*\",j,\"=\",c)"
   ]
  },
  {
   "cell_type": "code",
   "execution_count": 11,
   "id": "bda2a59b-88ad-4c8b-92fb-a6fb7e7bc9e7",
   "metadata": {},
   "outputs": [
    {
     "name": "stdout",
     "output_type": "stream",
     "text": [
      "[6, 14, 18, 26, 32] "
     ]
    }
   ],
   "source": [
    "#17. Write a program that converts a list of Fahrenheit temperatures to Celsius using a `for` loop.\n",
    "lst1=[42,58,65,78,89]\n",
    "cel=[]\n",
    "for i in lst1:\n",
    "    celisus=int(round((i-32) * 5/9))\n",
    "    cel.append(celisus)\n",
    "print(cel,end=\" \")"
   ]
  },
  {
   "cell_type": "code",
   "execution_count": 19,
   "id": "341ce8f8-94f6-46d1-b30f-ccf2a99fa73d",
   "metadata": {},
   "outputs": [
    {
     "name": "stdout",
     "output_type": "stream",
     "text": [
      "common elements [3, 4, 5, 'don']\n"
     ]
    }
   ],
   "source": [
    "#18. Create a program to print the common elements from two lists using a `for` loop.\n",
    "l6=[1,2,3,4,5,\"don\"]\n",
    "l7=[7,6,5,4,3,\"don\"]\n",
    "common_list = [x for x in l6 if x in l7]\n",
    "print(\"common elements\",common_list)"
   ]
  },
  {
   "cell_type": "code",
   "execution_count": 32,
   "id": "d02e66c1-edab-43f8-b879-985ed3d65459",
   "metadata": {},
   "outputs": [
    {
     "name": "stdin",
     "output_type": "stream",
     "text": [
      "enter number of rows 5\n"
     ]
    },
    {
     "name": "stdout",
     "output_type": "stream",
     "text": [
      "*  \n",
      "* *  \n",
      "* * *  \n",
      "* * * *  \n",
      "* * * * *  \n"
     ]
    }
   ],
   "source": [
    "#19. Develop a program that prints the pattern of right-angled triangles using a `for` loop. Use ‘*’ to draw the pattern\n",
    "x=int(input(\"enter number of rows\"))\n",
    "for i in range(x):\n",
    "    for j in range(i+1):\n",
    "        print(\"*\",end=' ')\n",
    "    print(\" \")"
   ]
  },
  {
   "cell_type": "code",
   "execution_count": 37,
   "id": "3c4a62bf-f819-4348-899a-3c14e19cfbff",
   "metadata": {},
   "outputs": [
    {
     "name": "stdin",
     "output_type": "stream",
     "text": [
      "enter a number1 36\n",
      "enter a number2 60\n"
     ]
    },
    {
     "name": "stdout",
     "output_type": "stream",
     "text": [
      "12\n"
     ]
    }
   ],
   "source": [
    "#20. Write a program to find the greatest common divisor (GCD) of two numbers using a `for` loop.\n",
    "x=int(input(\"enter a number1\"))\n",
    "y=int(input(\"enter a number2\"))\n",
    "gcd=1\n",
    "for i in range(1,min(x,y)):\n",
    "    if(x%i==0 and y%i==0):\n",
    "        gcd=i\n",
    "print(gcd)"
   ]
  },
  {
   "cell_type": "code",
   "execution_count": 5,
   "id": "45a9e83a-e7d1-4a9c-b8d0-e3e72c29024a",
   "metadata": {},
   "outputs": [
    {
     "name": "stdout",
     "output_type": "stream",
     "text": [
      "150\n"
     ]
    }
   ],
   "source": [
    "#21. Create a program that calculates the sum of the digits of numbers in a list using a list comprehension.\n",
    "numbers=[10,20,30,40,50]\n",
    "lst=[]\n",
    "total=0\n",
    "sumoflist=[total:=total+x for x in numbers]\n",
    "print(total)"
   ]
  },
  {
   "cell_type": "code",
   "execution_count": 9,
   "id": "bd328e7a-17d6-41d9-a247-07daf0c88f4b",
   "metadata": {},
   "outputs": [
    {
     "name": "stdin",
     "output_type": "stream",
     "text": [
      " Please Enter any Number:  72\n"
     ]
    },
    {
     "name": "stdout",
     "output_type": "stream",
     "text": [
      " 2 is a Prime Factor of a Given Number 72\n",
      " 3 is a Prime Factor of a Given Number 72\n"
     ]
    }
   ],
   "source": [
    "#22. Write a program to find the prime factors of a given number using a `for` loop and list comprehension.\n",
    "Number = int(input(\" Please Enter any Number: \"))\n",
    "for i in range(2, Number + 1):\n",
    "    if(Number % i == 0):\n",
    "        isprime = 1\n",
    "        for j in range(2, (i //2 + 1)):\n",
    "            if(i % j == 0):\n",
    "                isprime = 0\n",
    "                break\n",
    "        if (isprime == 1):\n",
    "            print(\" %d is a Prime Factor of a Given Number %d\" %(i, Number))"
   ]
  },
  {
   "cell_type": "code",
   "execution_count": 1,
   "id": "b29e2d90-3a7f-4180-b899-a5004bcd26fa",
   "metadata": {},
   "outputs": [
    {
     "name": "stdout",
     "output_type": "stream",
     "text": [
      "[[1, 2, 3, 4, 5, 4, 1, 5]]\n"
     ]
    }
   ],
   "source": [
    "#23. Develop a program that extracts unique elements from a list and stores them in a new list using a list comprehension.\n",
    "list1=[1,2,3,4,5,4,1,5]\n",
    "unique=[]\n",
    "lst2=[ x for x in list1 if x not in unique ]\n",
    "unique.append(lst2)\n",
    "print(unique)"
   ]
  },
  {
   "cell_type": "code",
   "execution_count": 19,
   "id": "68240be4-3d42-4440-93d2-7be943b99c60",
   "metadata": {},
   "outputs": [
    {
     "name": "stdin",
     "output_type": "stream",
     "text": [
      "enter the starting range 100\n",
      "enter the ending range 150\n"
     ]
    },
    {
     "name": "stdout",
     "output_type": "stream",
     "text": [
      "[101, 111, 121, 131, 141]\n"
     ]
    }
   ],
   "source": [
    "#24. Create a program that generates a list of all palindromic numbers up to a specified limit using a list comprehension.\n",
    "m=int(input(\"enter the starting range\"))\n",
    "n=int(input(\"enter the ending range\"))\n",
    "palindromic=[x for x in range(m,n+1) if str(x)==str(x)[::-1]]\n",
    "print(palindromic)"
   ]
  },
  {
   "cell_type": "code",
   "execution_count": 18,
   "id": "77429a28-6a81-4acb-8ae9-55d08ad460ff",
   "metadata": {},
   "outputs": [
    {
     "name": "stdout",
     "output_type": "stream",
     "text": [
      "the flatten a nested list is: [1, 2, 1, 2, 3, 1, 2, 3, 4]\n"
     ]
    }
   ],
   "source": [
    "#25. Write a program to flatten a nested list using list comprehension.\n",
    "my_list=[[1,2],[1,2,3],[1,2,3,4]]\n",
    "flatten_list=[num for i in my_list for num in i]\n",
    "print(\"the flatten a nested list is:\",flatten_list)"
   ]
  },
  {
   "cell_type": "code",
   "execution_count": 15,
   "id": "d6560dd1-09b8-40cc-b517-a09131ba9983",
   "metadata": {},
   "outputs": [
    {
     "name": "stdout",
     "output_type": "stream",
     "text": [
      "the sum of even numbers: 16\n",
      "the sum of odd numbers: 29\n"
     ]
    }
   ],
   "source": [
    "#26. Develop a program that computes the sum of even and odd numbers in a list separately using list comprehension.\n",
    "l1=[2,5,6,8,9,15]\n",
    "even=sum(i for i in l1 if i%2==0)\n",
    "odd=sum(i for i in l1 if i%2!=0)\n",
    "print(\"the sum of even numbers:\",even)\n",
    "print(\"the sum of odd numbers:\",odd)"
   ]
  },
  {
   "cell_type": "code",
   "execution_count": 8,
   "id": "f6603f29-cb14-4b1d-b41f-17599b5c652b",
   "metadata": {},
   "outputs": [
    {
     "name": "stdout",
     "output_type": "stream",
     "text": [
      "[1, 9, 25, 49, 81]\n"
     ]
    }
   ],
   "source": [
    "#27. Create a program that generates a list of squares of odd numbers between 1 and 10 using list comprehension.\n",
    "l1=[1,2,3,4,5,6,7,8,9,10]\n",
    "list_squares_odd=[i*i for i in list1 if i%2!=0]\n",
    "print(list_squares_odd)\n"
   ]
  },
  {
   "cell_type": "code",
   "execution_count": 6,
   "id": "44e3e43c-cebc-45d5-a73f-141100af3583",
   "metadata": {},
   "outputs": [
    {
     "name": "stdout",
     "output_type": "stream",
     "text": [
      "the resultant dictionary is: {'ravi': 1, 'raju': 2, 'anil': 3}\n"
     ]
    }
   ],
   "source": [
    "#28. Write a program that combines two lists into a dictionary using list comprehension.\n",
    "keys=[\"ravi\",\"raju\",\"anil\"]\n",
    "values=[1,2,3]\n",
    "result_dict={keys[i]:values[i] for i in range(len(keys))}\n",
    "print(\"the resultant dictionary is:\",result_dict)"
   ]
  },
  {
   "cell_type": "code",
   "execution_count": 19,
   "id": "16bbe11d-fb9f-4795-9a1e-60a1e78bf005",
   "metadata": {},
   "outputs": [
    {
     "name": "stdin",
     "output_type": "stream",
     "text": [
      "enter a string santhosh\n"
     ]
    },
    {
     "name": "stdout",
     "output_type": "stream",
     "text": [
      "the vowels are: ['a', 'o']\n"
     ]
    }
   ],
   "source": [
    "#29. Develop a program that extracts the vowels from a string and stores them in a list using list comprehension.\n",
    "text=input(\"enter a string\")\n",
    "vowels_string=[char for char in text if char.lower() in 'aeiou']\n",
    "print(\"the vowels are:\",vowels_string)"
   ]
  },
  {
   "cell_type": "code",
   "execution_count": 23,
   "id": "eccfabda-8d51-4000-9e36-a4a610905315",
   "metadata": {},
   "outputs": [
    {
     "name": "stdout",
     "output_type": "stream",
     "text": [
      "[1, 2, 3, 6]\n"
     ]
    }
   ],
   "source": [
    "#30. Create a program that removes all non-numeric characters from a list of strings using list comprehension\n",
    "my_list=[1,2,3,\"santhosh\",True,6]\n",
    "non_numeric=[x for x in my_list if type(x)==int]\n",
    "print(non_numeric)"
   ]
  },
  {
   "cell_type": "code",
   "execution_count": 29,
   "id": "6866c211-ab68-4846-b839-e747c5705053",
   "metadata": {},
   "outputs": [
    {
     "name": "stdin",
     "output_type": "stream",
     "text": [
      "Enter the value of n:  15\n"
     ]
    },
    {
     "name": "stdout",
     "output_type": "stream",
     "text": [
      "the Pythagorean triplets are: [(3, 4, 5), (5, 12, 13), (6, 8, 10), (9, 12, 15)]\n"
     ]
    }
   ],
   "source": [
    "# 32. Create a program that generates a list of all Pythagorean triplets up to a specified limit using list comprehension\n",
    "n = int(input('Enter the value of n:'))\n",
    "pythagorean=[(a, b, c) for a in range(1, n + 1) for b in range(a, n + 1) for c in range(b, n + 1) if a**2 + b**2 == c**2]\n",
    "print(\"the Pythagorean triplets are:\",pythagorean)\n"
   ]
  },
  {
   "cell_type": "code",
   "execution_count": 22,
   "id": "cc940cfc-035e-4622-995a-7d99e680cc83",
   "metadata": {},
   "outputs": [
    {
     "name": "stdout",
     "output_type": "stream",
     "text": [
      "list of all possible combinations of two lists are: [(1, 3), (1, 4), (2, 3), (2, 4)]\n"
     ]
    }
   ],
   "source": [
    "#33. Develop a program that generates a list of all possible combinations of two lists using list comprehension.\n",
    "l1=[1,2]\n",
    "l2=[3,4]\n",
    "combinations=[]\n",
    "c=[combinations.append((l1[i],l2[j])) for i in range(len(l1)) for j in range(len(l2))]\n",
    "print(\"list of all possible combinations of two lists are:\",combinations)"
   ]
  },
  {
   "cell_type": "code",
   "execution_count": 39,
   "id": "df4849ff-46ed-446d-ab0a-016a5f909382",
   "metadata": {},
   "outputs": [
    {
     "name": "stdout",
     "output_type": "stream",
     "text": [
      "the mean of list is [4.285714285714286]\n",
      "the median of list is [5.0]\n",
      "the mode of list is [5]\n"
     ]
    }
   ],
   "source": [
    "#34. Write a program that calculates the mean, median, and mode of a list of numbers using list comprehension.\n",
    "list2=[2,3,4,5,6,5,5]\n",
    "length=len(list2)\n",
    "mean=[sum(x for x in list2)/length]\n",
    "print(\"the mean of list is\",mean)\n",
    "\n",
    "list2.sort()\n",
    "mid=len(list2)//2\n",
    "median=[ (list2[mid]+list2[~mid])/2]\n",
    "print(\"the median of list is\",median)\n",
    "\n",
    "\n",
    "y={}\n",
    "for a in list2:\n",
    "    if not a in y:\n",
    "        y[a]=1\n",
    "    else:\n",
    "        y[a]+=1\n",
    "mode=[g for g,l in y.items() if l==max(y.values())] \n",
    "print(\"the mode of list is\",mode)"
   ]
  },
  {
   "cell_type": "code",
   "execution_count": 43,
   "id": "16967119-da3f-46c9-a4cd-c19bec767f5b",
   "metadata": {},
   "outputs": [
    {
     "name": "stdout",
     "output_type": "stream",
     "text": [
      "[1]\n",
      "[1, 1]\n",
      "[1, 2, 1]\n",
      "[1, 3, 3, 1]\n",
      "[1, 4, 6, 4, 1]\n",
      "[1, 5, 10, 10, 5, 1]\n"
     ]
    },
    {
     "data": {
      "text/plain": [
       "True"
      ]
     },
     "execution_count": 43,
     "metadata": {},
     "output_type": "execute_result"
    }
   ],
   "source": [
    "#35. Create a program that generates Pascal's triangle up to a specified number of rows using list comprehension.\n",
    "def PascalTriangle(n):\n",
    "    trow = [1]\n",
    "    y = [0]\n",
    "    for x in range(n):\n",
    "        print(trow)\n",
    "        trow=[left+right for left,right in zip(trow+y, y+trow)]\n",
    "    return n>=1\n",
    "PascalTriangle(6)"
   ]
  },
  {
   "cell_type": "code",
   "execution_count": 59,
   "id": "41deebe2-e088-49b6-b714-6f3f1de6611d",
   "metadata": {},
   "outputs": [
    {
     "name": "stdout",
     "output_type": "stream",
     "text": [
      "sum of the digits of a factorial of numbers 153\n"
     ]
    }
   ],
   "source": [
    "#36. Develop a program that calculates the sum of the digits of a factorial of numbers from 1 to 5 using list comprehension.\n",
    "s=[]\n",
    "s=[s[-1] for x in range(1,6) if not s.append(x*s[-1] if s else 1)]\n",
    "sum_factorial=sum(s)\n",
    "print(\"sum of the digits of a factorial of numbers\",sum_factorial)"
   ]
  },
  {
   "cell_type": "code",
   "execution_count": 79,
   "id": "28975b3b-6208-48e8-bd33-b39894681970",
   "metadata": {},
   "outputs": [
    {
     "name": "stdin",
     "output_type": "stream",
     "text": [
      "enter the senternce learning data science\n"
     ]
    },
    {
     "name": "stdout",
     "output_type": "stream",
     "text": [
      "the lognest word in a sentence is learning\n"
     ]
    }
   ],
   "source": [
    "#37. Write a program that finds the longest word in a sentence using list comprehension.\n",
    "x=input(\"enter the senternce\")\n",
    "s=x.split()\n",
    "longest=max(s,key=len)\n",
    "print(\"the lognest word in a sentence is:\",longest)\n",
    "    \n"
   ]
  },
  {
   "cell_type": "code",
   "execution_count": 10,
   "id": "1f354866-09c8-497e-be26-4a5402f57d8d",
   "metadata": {},
   "outputs": [
    {
     "name": "stdout",
     "output_type": "stream",
     "text": [
      "sum of the digits of numbers : [1, 2, 3, 4, 5, 6, 7, 8, 9, 1, 2, 3, 4, 5, 6, 7, 8, 9, 10, 2, 3, 4, 5, 6, 7, 8, 9, 10, 11, 3, 4, 5, 6, 7, 8, 9, 10, 11, 12, 4, 5, 6, 7, 8, 9, 10, 11, 12, 13, 5, 6, 7, 8, 9, 10, 11, 12, 13, 14, 6, 7, 8, 9, 10, 11, 12, 13, 14, 15, 7, 8, 9, 10, 11, 12, 13, 14, 15, 16, 8, 9, 10, 11, 12, 13, 14, 15, 16, 17, 9, 10, 11, 12, 13, 14, 15, 16, 17, 18, 1, 2, 3, 4, 5, 6, 7, 8, 9, 10, 2, 3, 4, 5, 6, 7, 8, 9, 10, 11, 3, 4, 5, 6, 7, 8, 9, 10, 11, 12, 4, 5, 6, 7, 8, 9, 10, 11, 12, 13, 5, 6, 7, 8, 9, 10, 11, 12, 13, 14, 6, 7, 8, 9, 10, 11, 12, 13, 14, 15, 7, 8, 9, 10, 11, 12, 13, 14, 15, 16, 8, 9, 10, 11, 12, 13, 14, 15, 16, 17, 9, 10, 11, 12, 13, 14, 15, 16, 17, 18, 10, 11, 12, 13, 14, 15, 16, 17, 18, 19, 2, 3, 4, 5, 6, 7, 8, 9, 10, 11, 3, 4, 5, 6, 7, 8, 9, 10, 11, 12, 4, 5, 6, 7, 8, 9, 10, 11, 12, 13, 5, 6, 7, 8, 9, 10, 11, 12, 13, 14, 6, 7, 8, 9, 10, 11, 12, 13, 14, 15, 7, 8, 9, 10, 11, 12, 13, 14, 15, 16, 8, 9, 10, 11, 12, 13, 14, 15, 16, 17, 9, 10, 11, 12, 13, 14, 15, 16, 17, 18, 10, 11, 12, 13, 14, 15, 16, 17, 18, 19, 11, 12, 13, 14, 15, 16, 17, 18, 19, 20, 3, 4, 5, 6, 7, 8, 9, 10, 11, 12, 4, 5, 6, 7, 8, 9, 10, 11, 12, 13, 5, 6, 7, 8, 9, 10, 11, 12, 13, 14, 6, 7, 8, 9, 10, 11, 12, 13, 14, 15, 7, 8, 9, 10, 11, 12, 13, 14, 15, 16, 8, 9, 10, 11, 12, 13, 14, 15, 16, 17, 9, 10, 11, 12, 13, 14, 15, 16, 17, 18, 10, 11, 12, 13, 14, 15, 16, 17, 18, 19, 11, 12, 13, 14, 15, 16, 17, 18, 19, 20, 12, 13, 14, 15, 16, 17, 18, 19, 20, 21, 4, 5, 6, 7, 8, 9, 10, 11, 12, 13, 5, 6, 7, 8, 9, 10, 11, 12, 13, 14, 6, 7, 8, 9, 10, 11, 12, 13, 14, 15, 7, 8, 9, 10, 11, 12, 13, 14, 15, 16, 8, 9, 10, 11, 12, 13, 14, 15, 16, 17, 9, 10, 11, 12, 13, 14, 15, 16, 17, 18, 10, 11, 12, 13, 14, 15, 16, 17, 18, 19, 11, 12, 13, 14, 15, 16, 17, 18, 19, 20, 12, 13, 14, 15, 16, 17, 18, 19, 20, 21, 13, 14, 15, 16, 17, 18, 19, 20, 21, 22, 5, 6, 7, 8, 9, 10, 11, 12, 13, 14, 6, 7, 8, 9, 10, 11, 12, 13, 14, 15, 7, 8, 9, 10, 11, 12, 13, 14, 15, 16, 8, 9, 10, 11, 12, 13, 14, 15, 16, 17, 9, 10, 11, 12, 13, 14, 15, 16, 17, 18, 10, 11, 12, 13, 14, 15, 16, 17, 18, 19, 11, 12, 13, 14, 15, 16, 17, 18, 19, 20, 12, 13, 14, 15, 16, 17, 18, 19, 20, 21, 13, 14, 15, 16, 17, 18, 19, 20, 21, 22, 14, 15, 16, 17, 18, 19, 20, 21, 22, 23, 6, 7, 8, 9, 10, 11, 12, 13, 14, 15, 7, 8, 9, 10, 11, 12, 13, 14, 15, 16, 8, 9, 10, 11, 12, 13, 14, 15, 16, 17, 9, 10, 11, 12, 13, 14, 15, 16, 17, 18, 10, 11, 12, 13, 14, 15, 16, 17, 18, 19, 11, 12, 13, 14, 15, 16, 17, 18, 19, 20, 12, 13, 14, 15, 16, 17, 18, 19, 20, 21, 13, 14, 15, 16, 17, 18, 19, 20, 21, 22, 14, 15, 16, 17, 18, 19, 20, 21, 22, 23, 15, 16, 17, 18, 19, 20, 21, 22, 23, 24, 7, 8, 9, 10, 11, 12, 13, 14, 15, 16, 8, 9, 10, 11, 12, 13, 14, 15, 16, 17, 9, 10, 11, 12, 13, 14, 15, 16, 17, 18, 10, 11, 12, 13, 14, 15, 16, 17, 18, 19, 11, 12, 13, 14, 15, 16, 17, 18, 19, 20, 12, 13, 14, 15, 16, 17, 18, 19, 20, 21, 13, 14, 15, 16, 17, 18, 19, 20, 21, 22, 14, 15, 16, 17, 18, 19, 20, 21, 22, 23, 15, 16, 17, 18, 19, 20, 21, 22, 23, 24, 16, 17, 18, 19, 20, 21, 22, 23, 24, 25, 8, 9, 10, 11, 12, 13, 14, 15, 16, 17, 9, 10, 11, 12, 13, 14, 15, 16, 17, 18, 10, 11, 12, 13, 14, 15, 16, 17, 18, 19, 11, 12, 13, 14, 15, 16, 17, 18, 19, 20, 12, 13, 14, 15, 16, 17, 18, 19, 20, 21, 13, 14, 15, 16, 17, 18, 19, 20, 21, 22, 14, 15, 16, 17, 18, 19, 20, 21, 22, 23, 15, 16, 17, 18, 19, 20, 21, 22, 23, 24, 16, 17, 18, 19, 20, 21, 22, 23, 24, 25, 17, 18, 19, 20, 21, 22, 23, 24, 25, 26, 9, 10, 11, 12, 13, 14, 15, 16, 17, 18, 10, 11, 12, 13, 14, 15, 16, 17, 18, 19, 11, 12, 13, 14, 15, 16, 17, 18, 19, 20, 12, 13, 14, 15, 16, 17, 18, 19, 20, 21, 13, 14, 15, 16, 17, 18, 19, 20, 21, 22, 14, 15, 16, 17, 18, 19, 20, 21, 22, 23, 15, 16, 17, 18, 19, 20, 21, 22, 23, 24, 16, 17, 18, 19, 20, 21, 22, 23, 24, 25, 17, 18, 19, 20, 21, 22, 23, 24, 25, 26, 18, 19, 20, 21, 22, 23, 24, 25, 26, 27, 1]\n"
     ]
    }
   ],
   "source": [
    "#39. Develop a program that calculates the sum of the digits of numbers from 1 to 1000 using list comprehension.\n",
    "test_list = range(1,1001)\n",
    "res = list(map(lambda ele: sum(int(sub) for sub in str(ele)), test_list))\n",
    "print (\"sum of the digits of numbers : \" + str(res))"
   ]
  },
  {
   "cell_type": "code",
   "execution_count": 15,
   "id": "3de23885-c649-4e64-96cd-c6e3618651c5",
   "metadata": {},
   "outputs": [
    {
     "name": "stdin",
     "output_type": "stream",
     "text": [
      "enter lower limit 100\n",
      "enter upper limit 150\n"
     ]
    },
    {
     "name": "stdout",
     "output_type": "stream",
     "text": [
      "list of prime palindromic numbers are: [101, 111, 121, 131, 141]\n"
     ]
    }
   ],
   "source": [
    "#40. Write a program that generates a list of prime palindromic numbers using list comprehension\n",
    "res=[]\n",
    "z=int(input(\"enter lower limit\"))\n",
    "y=int(input(\"enter upper limit\"))\n",
    "res=[x for x in range(z,y+1) if x%2!=0 and str(x)==str(x)[::-1]]\n",
    "print(\"list of prime palindromic numbers are:\",res)"
   ]
  },
  {
   "cell_type": "code",
   "execution_count": null,
   "id": "b4f28901-e613-4d23-9eec-19dc6b87e2bc",
   "metadata": {},
   "outputs": [],
   "source": []
  },
  {
   "cell_type": "code",
   "execution_count": null,
   "id": "30385b0e-a00e-46c9-b724-7256280c7946",
   "metadata": {},
   "outputs": [],
   "source": []
  },
  {
   "cell_type": "code",
   "execution_count": null,
   "id": "34148fa4-02dc-4884-98f9-44a53d444b07",
   "metadata": {},
   "outputs": [],
   "source": []
  }
 ],
 "metadata": {
  "kernelspec": {
   "display_name": "Python 3 (ipykernel)",
   "language": "python",
   "name": "python3"
  },
  "language_info": {
   "codemirror_mode": {
    "name": "ipython",
    "version": 3
   },
   "file_extension": ".py",
   "mimetype": "text/x-python",
   "name": "python",
   "nbconvert_exporter": "python",
   "pygments_lexer": "ipython3",
   "version": "3.10.8"
  }
 },
 "nbformat": 4,
 "nbformat_minor": 5
}
